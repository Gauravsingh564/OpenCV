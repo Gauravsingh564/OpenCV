{
  "cells": [
    {
      "cell_type": "code",
      "execution_count": 6,
      "metadata": {
        "id": "V5Ls6ufXowie"
      },
      "outputs": [],
      "source": [
        "import cv2"
      ]
    },
    {
      "cell_type": "code",
      "execution_count": 7,
      "metadata": {
        "id": "yCnZEp6dsXVh"
      },
      "outputs": [],
      "source": [
        "# Load the video\n",
        "\n",
        "video=cv2.VideoCapture('/content/mountain.mp4')"
      ]
    },
    {
      "cell_type": "code",
      "execution_count": null,
      "metadata": {
        "colab": {
          "background_save": true
        },
        "id": "ofp-69SBt1Ab"
      },
      "outputs": [],
      "source": [
        "#Display The Video\n",
        "\n",
        "from google.colab.patches import cv2_imshow\n",
        "\n",
        "while True:\n",
        "  ret, frame=video.read()\n",
        "  if not ret:\n",
        "    break\n",
        "  cv2_imshow(frame)\n",
        "  if cv2.waitKey(1) & 0xFF == ord('q'):\n",
        "    break\n",
        "video.release()\n",
        "cv2.destroyAllWindows()"
      ]
    },
    {
      "cell_type": "code",
      "source": [
        "width=int(video.get(cv2.CAP_PROP_FRAME_WIDTH))\n",
        "height=int(video.get(cv2.CAP_PROP_FRAME_HEIGHT))\n",
        "fps=int(video.get(cv2.CAP_PROP_FPS))\n",
        "width, height, fps"
      ],
      "metadata": {
        "colab": {
          "base_uri": "https://localhost:8080/"
        },
        "id": "GdExLK8R1c9W",
        "outputId": "ee7c897f-0fdd-4956-db5d-4f859c9d631b"
      },
      "execution_count": 10,
      "outputs": [
        {
          "output_type": "execute_result",
          "data": {
            "text/plain": [
              "(1366, 720, 23)"
            ]
          },
          "metadata": {},
          "execution_count": 10
        }
      ]
    },
    {
      "cell_type": "code",
      "execution_count": 12,
      "metadata": {
        "id": "QLXFouSevfbT"
      },
      "outputs": [],
      "source": [
        "# Write a Video\n",
        "fourcc= cv2.VideoWriter_fourcc(*\"mp4v\")\n",
        "out=cv2.VideoWriter(\"output.mp4\",fourcc,23,(width,height))\n",
        "while True:\n",
        "  ret,frame=video.read()\n",
        "  if not ret:\n",
        "    break\n",
        "  out.write(frame)\n",
        "out.release()\n",
        "video.release()\n",
        "cv2.destroyAllWindows()"
      ]
    },
    {
      "cell_type": "code",
      "source": [],
      "metadata": {
        "id": "reuovaaw2dG_"
      },
      "execution_count": null,
      "outputs": []
    }
  ],
  "metadata": {
    "colab": {
      "provenance": []
    },
    "kernelspec": {
      "display_name": "Python 3",
      "name": "python3"
    },
    "language_info": {
      "name": "python"
    }
  },
  "nbformat": 4,
  "nbformat_minor": 0
}